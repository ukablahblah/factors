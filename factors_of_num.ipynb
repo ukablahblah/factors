{
  "nbformat": 4,
  "nbformat_minor": 0,
  "metadata": {
    "colab": {
      "provenance": [],
      "authorship_tag": "ABX9TyPMDeApvwdbi60iblXwkVrD",
      "include_colab_link": true
    },
    "kernelspec": {
      "name": "python3",
      "display_name": "Python 3"
    },
    "language_info": {
      "name": "python"
    }
  },
  "cells": [
    {
      "cell_type": "markdown",
      "metadata": {
        "id": "view-in-github",
        "colab_type": "text"
      },
      "source": [
        "<a href=\"https://colab.research.google.com/github/ukablahblah/factors/blob/main/factors_of_num.ipynb\" target=\"_parent\"><img src=\"https://colab.research.google.com/assets/colab-badge.svg\" alt=\"Open In Colab\"/></a>"
      ]
    },
    {
      "cell_type": "code",
      "execution_count": 4,
      "metadata": {
        "id": "KW1RGpfxT707"
      },
      "outputs": [],
      "source": [
        "def factors_of_num(n):\n",
        "    factors = set()\n",
        "    sqrt_n= int(n**0.5)\n",
        "    for i in range(1, sqrt_n + 1):\n",
        "        if n % i == 0:\n",
        "            factors.add(i)\n",
        "            factors.add(n // i)\n",
        "    return factors"
      ]
    },
    {
      "cell_type": "code",
      "source": [
        "n=10\n",
        "factors_of_num(n)"
      ],
      "metadata": {
        "colab": {
          "base_uri": "https://localhost:8080/"
        },
        "id": "K1vdJZKQT9SN",
        "outputId": "517f5abf-0757-4ffa-b899-6c74e7f1f2c9"
      },
      "execution_count": 5,
      "outputs": [
        {
          "output_type": "execute_result",
          "data": {
            "text/plain": [
              "{1, 2, 5, 10}"
            ]
          },
          "metadata": {},
          "execution_count": 5
        }
      ]
    },
    {
      "cell_type": "code",
      "source": [
        "n=16\n",
        "factors_of_num(n)"
      ],
      "metadata": {
        "colab": {
          "base_uri": "https://localhost:8080/"
        },
        "id": "npA6veM_UFHo",
        "outputId": "ae472b5e-ed00-4cc4-c33c-cd84dd37ab71"
      },
      "execution_count": 6,
      "outputs": [
        {
          "output_type": "execute_result",
          "data": {
            "text/plain": [
              "{1, 2, 4, 8, 16}"
            ]
          },
          "metadata": {},
          "execution_count": 6
        }
      ]
    },
    {
      "cell_type": "code",
      "source": [
        "n=32\n",
        "factors_of_num(n)"
      ],
      "metadata": {
        "colab": {
          "base_uri": "https://localhost:8080/"
        },
        "id": "zo_t9fQeVVSv",
        "outputId": "45c2c60f-d628-4b6e-bb55-bc00b6acf657"
      },
      "execution_count": 7,
      "outputs": [
        {
          "output_type": "execute_result",
          "data": {
            "text/plain": [
              "{1, 2, 4, 8, 16, 32}"
            ]
          },
          "metadata": {},
          "execution_count": 7
        }
      ]
    },
    {
      "cell_type": "code",
      "source": [],
      "metadata": {
        "id": "-UDSR8S5VZIU"
      },
      "execution_count": null,
      "outputs": []
    }
  ]
}